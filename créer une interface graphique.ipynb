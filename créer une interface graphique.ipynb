{
 "cells": [
  {
   "cell_type": "markdown",
   "metadata": {},
   "source": [
    "Nous allons donc tester comment fonctionnent les fenêtres sur python à partir de la bibliothèque tkinter.\n",
    "Tout d abord nous allons voir comment créer simplment une fenêtre.\n",
    "Je vous propose donc dans un premier temps d exécuter le code ci après puis de le taper dans votre interpréteur python\n",
    "(pyzzo ou anaconda)et de voir ce que cela donne.\n",
    "Attention si vous avez plein de fenêtre ouvertes vous risquez de ne pas voir le résultat, réduisez bien tout :)"
   ]
  },
  {
   "cell_type": "code",
   "execution_count": 1,
   "metadata": {},
   "outputs": [],
   "source": [
    "\"\"\"Premier exemple avec Tkinter.\n",
    "\n",
    "On crée une fenêtre simple qui souhaite la bienvenue à l'utilisateur.\n",
    "\n",
    "\"\"\"\n",
    "\n",
    "# On importe la bibliothèque Tkinter\n",
    "from tkinter import *\n",
    "\n",
    "# On crée une fenêtre, racine de notre interface\n",
    "fenetre = Tk()\n",
    "\n",
    "# On crée un label (ligne de texte) souhaitant la bienvenue\n",
    "# Note : le premier paramètre passé au constructeur de Label est notre\n",
    "# interface racine, donc où doit s'afficher le Label\n",
    "champ_label = Label(fenetre, text=\"Bonjour les gens !\")\n",
    "\n",
    "# On affiche le label dans la fenêtre\n",
    "champ_label.pack()\n",
    "\n",
    "# On démarre la boucle Tkinter qui s'interompt quand on ferme la fenêtre\n",
    "fenetre.mainloop()"
   ]
  },
  {
   "cell_type": "markdown",
   "metadata": {},
   "source": [
    "Avez vous noté des différences entre ce qui est lancé depus le notebook et ce que vous avez tapé\n",
    "vous même dans votre interpréteur python ?\n",
    "Maintenant évoquons comment réaliser certaines fonctionnalités.\n",
    "Tkinter permet d'intégrer des widgets.\n",
    "\n",
    "Un widget est un objet qui va avoir une spécificité fonctionnelle pratique (bouton, zone de saisie, zone de pointage etc...)\n",
    "Commençons simplement:\n",
    "Le Bouton :)"
   ]
  },
  {
   "cell_type": "markdown",
   "metadata": {},
   "source": [
    "D une façon globae créer un bouton n'est pas très compliqué en soit. Si vous intégrez le code suivant dans un programme qui crée une fenêtre, en toute logique il va fermer celle-ci."
   ]
  },
  {
   "cell_type": "code",
   "execution_count": null,
   "metadata": {},
   "outputs": [],
   "source": [
    "bouton=Button(fenetre, text=\"Fermer\", command=fenetre.quit)\n",
    "bouton.pack()"
   ]
  },
  {
   "cell_type": "markdown",
   "metadata": {},
   "source": [
    "essayez donc d écrire le code qui va intégrer un bouton dans la fenêtre que vous avez créé précédemment"
   ]
  },
  {
   "cell_type": "code",
   "execution_count": null,
   "metadata": {},
   "outputs": [],
   "source": []
  },
  {
   "cell_type": "markdown",
   "metadata": {},
   "source": [
    "attention, réfléchissez...\n",
    "maintenant on peut vouloir exploiter la fenêtre pour afficher du contenu à lintérieur:\n",
    "On utilise pour cela un canvas (canvas en anglais, ou toile).\n",
    "Essayez d intégrer ce code dans votre programme initial"
   ]
  },
  {
   "cell_type": "code",
   "execution_count": null,
   "metadata": {},
   "outputs": [],
   "source": [
    "canvas = Canvas(fenetre, width=150, height=120, background='yellow')\n",
    "ligne1 = canvas.create_line(75, 0, 75, 120)\n",
    "ligne2 = canvas.create_line(0, 60, 150, 60)\n",
    "txt = canvas.create_text(75, 60, text=\"Cible\", font=\"Arial 16 italic\", fill=\"blue\")\n",
    "canvas.pack()"
   ]
  },
  {
   "cell_type": "markdown",
   "metadata": {},
   "source": [
    "Votre mission est maintenant à partir de ces 3 notions de créer une fenêtre qui contiendra un canevas, deux boutons (lancer et quitter)\n",
    "Lancer doit afficher un message \"gagné\" par exemple dans le cannevas. quitter doit fermer la fenêtre.\n",
    "Vous devrez découvrir la notion de label"
   ]
  },
  {
   "cell_type": "code",
   "execution_count": null,
   "metadata": {},
   "outputs": [],
   "source": []
  }
 ],
 "metadata": {
  "celltoolbar": "Format de la Cellule Texte Brut",
  "kernelspec": {
   "display_name": "Python 3",
   "language": "python",
   "name": "python3"
  },
  "language_info": {
   "codemirror_mode": {
    "name": "ipython",
    "version": 3
   },
   "file_extension": ".py",
   "mimetype": "text/x-python",
   "name": "python",
   "nbconvert_exporter": "python",
   "pygments_lexer": "ipython3",
   "version": "3.7.4"
  }
 },
 "nbformat": 4,
 "nbformat_minor": 2
}
